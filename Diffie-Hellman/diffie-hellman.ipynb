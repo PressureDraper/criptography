{
 "cells": [
  {
   "cell_type": "markdown",
   "metadata": {},
   "source": [
    "# Diffie Hellman"
   ]
  },
  {
   "cell_type": "code",
   "execution_count": 9,
   "metadata": {},
   "outputs": [
    {
     "ename": "ValueError",
     "evalue": "('Error computing shared key.', [_OpenSSLErrorWithText(code=101298329, lib=6, reason=153, reason_text=b'error:0609B099:digital envelope routines:EVP_PKEY_derive_set_peer:different parameters')])",
     "output_type": "error",
     "traceback": [
      "\u001b[1;31m---------------------------------------------------------------------------\u001b[0m",
      "\u001b[1;31mValueError\u001b[0m                                Traceback (most recent call last)",
      "\u001b[1;32mc:\\Users\\warma\\Desktop\\diffie-hellman.ipynb Cell 2'\u001b[0m in \u001b[0;36m<module>\u001b[1;34m\u001b[0m\n\u001b[0;32m     <a href='vscode-notebook-cell:/c%3A/Users/warma/Desktop/diffie-hellman.ipynb#ch0000001?line=17'>18</a>\u001b[0m public_key_receptor \u001b[39m=\u001b[39m private_key_receptor\u001b[39m.\u001b[39mpublic_key() \u001b[39m# si se va a intercambiar se tiene que serializar primero\u001b[39;00m\n\u001b[0;32m     <a href='vscode-notebook-cell:/c%3A/Users/warma/Desktop/diffie-hellman.ipynb#ch0000001?line=18'>19</a>\u001b[0m \u001b[39m# print(public_key_receptor)\u001b[39;00m\n\u001b[0;32m     <a href='vscode-notebook-cell:/c%3A/Users/warma/Desktop/diffie-hellman.ipynb#ch0000001?line=19'>20</a>\u001b[0m \u001b[39m# print(private_key_emisor)\u001b[39;00m\n\u001b[1;32m---> <a href='vscode-notebook-cell:/c%3A/Users/warma/Desktop/diffie-hellman.ipynb#ch0000001?line=21'>22</a>\u001b[0m shared_key_emisor \u001b[39m=\u001b[39m private_key_emisor\u001b[39m.\u001b[39;49mexchange(public_key_receptor) \u001b[39m# esto es binario\u001b[39;00m\n\u001b[0;32m     <a href='vscode-notebook-cell:/c%3A/Users/warma/Desktop/diffie-hellman.ipynb#ch0000001?line=22'>23</a>\u001b[0m shared_key_receptor \u001b[39m=\u001b[39m private_key_receptor\u001b[39m.\u001b[39mexchange(public_key_emisor)\n\u001b[0;32m     <a href='vscode-notebook-cell:/c%3A/Users/warma/Desktop/diffie-hellman.ipynb#ch0000001?line=24'>25</a>\u001b[0m \u001b[39mprint\u001b[39m(shared_key_emisor \u001b[39m==\u001b[39m shared_key_receptor)\n",
      "File \u001b[1;32mC:\\Python310\\lib\\site-packages\\cryptography\\hazmat\\backends\\openssl\\dh.py:145\u001b[0m, in \u001b[0;36m_DHPrivateKey.exchange\u001b[1;34m(self, peer_public_key)\u001b[0m\n\u001b[0;32m    <a href='file:///c%3A/Python310/lib/site-packages/cryptography/hazmat/backends/openssl/dh.py?line=139'>140</a>\u001b[0m res \u001b[39m=\u001b[39m \u001b[39mself\u001b[39m\u001b[39m.\u001b[39m_backend\u001b[39m.\u001b[39m_lib\u001b[39m.\u001b[39mEVP_PKEY_derive_set_peer(\n\u001b[0;32m    <a href='file:///c%3A/Python310/lib/site-packages/cryptography/hazmat/backends/openssl/dh.py?line=140'>141</a>\u001b[0m     ctx, peer_public_key\u001b[39m.\u001b[39m_evp_pkey\n\u001b[0;32m    <a href='file:///c%3A/Python310/lib/site-packages/cryptography/hazmat/backends/openssl/dh.py?line=141'>142</a>\u001b[0m )\n\u001b[0;32m    <a href='file:///c%3A/Python310/lib/site-packages/cryptography/hazmat/backends/openssl/dh.py?line=142'>143</a>\u001b[0m \u001b[39m# Invalid kex errors here in OpenSSL 3.0 because checks were moved\u001b[39;00m\n\u001b[0;32m    <a href='file:///c%3A/Python310/lib/site-packages/cryptography/hazmat/backends/openssl/dh.py?line=143'>144</a>\u001b[0m \u001b[39m# to EVP_PKEY_derive_set_peer\u001b[39;00m\n\u001b[1;32m--> <a href='file:///c%3A/Python310/lib/site-packages/cryptography/hazmat/backends/openssl/dh.py?line=144'>145</a>\u001b[0m \u001b[39mself\u001b[39;49m\u001b[39m.\u001b[39;49m_exchange_assert(res \u001b[39m==\u001b[39;49m \u001b[39m1\u001b[39;49m)\n\u001b[0;32m    <a href='file:///c%3A/Python310/lib/site-packages/cryptography/hazmat/backends/openssl/dh.py?line=145'>146</a>\u001b[0m keylen \u001b[39m=\u001b[39m \u001b[39mself\u001b[39m\u001b[39m.\u001b[39m_backend\u001b[39m.\u001b[39m_ffi\u001b[39m.\u001b[39mnew(\u001b[39m\"\u001b[39m\u001b[39msize_t *\u001b[39m\u001b[39m\"\u001b[39m)\n\u001b[0;32m    <a href='file:///c%3A/Python310/lib/site-packages/cryptography/hazmat/backends/openssl/dh.py?line=146'>147</a>\u001b[0m res \u001b[39m=\u001b[39m \u001b[39mself\u001b[39m\u001b[39m.\u001b[39m_backend\u001b[39m.\u001b[39m_lib\u001b[39m.\u001b[39mEVP_PKEY_derive(\n\u001b[0;32m    <a href='file:///c%3A/Python310/lib/site-packages/cryptography/hazmat/backends/openssl/dh.py?line=147'>148</a>\u001b[0m     ctx, \u001b[39mself\u001b[39m\u001b[39m.\u001b[39m_backend\u001b[39m.\u001b[39m_ffi\u001b[39m.\u001b[39mNULL, keylen\n\u001b[0;32m    <a href='file:///c%3A/Python310/lib/site-packages/cryptography/hazmat/backends/openssl/dh.py?line=148'>149</a>\u001b[0m )\n",
      "File \u001b[1;32mC:\\Python310\\lib\\site-packages\\cryptography\\hazmat\\backends\\openssl\\dh.py:168\u001b[0m, in \u001b[0;36m_DHPrivateKey._exchange_assert\u001b[1;34m(self, ok)\u001b[0m\n\u001b[0;32m    <a href='file:///c%3A/Python310/lib/site-packages/cryptography/hazmat/backends/openssl/dh.py?line=165'>166</a>\u001b[0m \u001b[39mif\u001b[39;00m \u001b[39mnot\u001b[39;00m ok:\n\u001b[0;32m    <a href='file:///c%3A/Python310/lib/site-packages/cryptography/hazmat/backends/openssl/dh.py?line=166'>167</a>\u001b[0m     errors_with_text \u001b[39m=\u001b[39m \u001b[39mself\u001b[39m\u001b[39m.\u001b[39m_backend\u001b[39m.\u001b[39m_consume_errors_with_text()\n\u001b[1;32m--> <a href='file:///c%3A/Python310/lib/site-packages/cryptography/hazmat/backends/openssl/dh.py?line=167'>168</a>\u001b[0m     \u001b[39mraise\u001b[39;00m \u001b[39mValueError\u001b[39;00m(\n\u001b[0;32m    <a href='file:///c%3A/Python310/lib/site-packages/cryptography/hazmat/backends/openssl/dh.py?line=168'>169</a>\u001b[0m         \u001b[39m\"\u001b[39m\u001b[39mError computing shared key.\u001b[39m\u001b[39m\"\u001b[39m,\n\u001b[0;32m    <a href='file:///c%3A/Python310/lib/site-packages/cryptography/hazmat/backends/openssl/dh.py?line=169'>170</a>\u001b[0m         errors_with_text,\n\u001b[0;32m    <a href='file:///c%3A/Python310/lib/site-packages/cryptography/hazmat/backends/openssl/dh.py?line=170'>171</a>\u001b[0m     )\n",
      "\u001b[1;31mValueError\u001b[0m: ('Error computing shared key.', [_OpenSSLErrorWithText(code=101298329, lib=6, reason=153, reason_text=b'error:0609B099:digital envelope routines:EVP_PKEY_derive_set_peer:different parameters')])"
     ]
    }
   ],
   "source": [
    "from cryptography.hazmat.backends import default_backend\n",
    "from  cryptography.hazmat.primitives import hashes\n",
    "from cryptography.hazmat.primitives.asymmetric import dh\n",
    "from cryptography.hazmat.primitives.kdf.hkdf import HKDF\n",
    "\n",
    "# Parametros reusables\n",
    "# Deben ser iguales en ambos lados\n",
    "parameters = dh.generate_parameters(generator = 2, key_size = 2048, backend = default_backend())\n",
    "\n",
    "private_key_emisor = parameters.generate_private_key()\n",
    "# Esta es la que se tiene que intercambiar\n",
    "public_key_emisor = private_key_emisor.public_key()\n",
    "\n",
    "\n",
    "private_key_receptor = parameters.generate_private_key() # los parámetros se pueden reusar\n",
    "public_key_receptor = private_key_receptor.public_key() # si se va a intercambiar se tiene que serializar primero\n",
    "# print(public_key_receptor)\n",
    "# print(private_key_emisor)\n",
    "\n",
    "shared_key_emisor = private_key_emisor.exchange(public_key_receptor) # esto es binario\n",
    "shared_key_receptor = private_key_receptor.exchange(public_key_emisor)\n",
    "\n",
    "print(shared_key_emisor == shared_key_receptor)\n",
    "print(shared_key_emisor)\n",
    "print(shared_key_receptor)"
   ]
  },
  {
   "cell_type": "markdown",
   "metadata": {},
   "source": [
    "## Derivar una llave"
   ]
  },
  {
   "cell_type": "markdown",
   "metadata": {},
   "source": [
    "- El binario obtenido al crear el secreto compartido es más largo de lo que se necesita\n",
    "- HKDF es un algoritmo para derivar una llave a través de un secreto (podría ser también una contraseña)"
   ]
  },
  {
   "cell_type": "code",
   "execution_count": 2,
   "metadata": {},
   "outputs": [
    {
     "name": "stdout",
     "output_type": "stream",
     "text": [
      "b'n\\x8a\\x7f\\xe2K\\xcaF\\x83\\xf1k~\\xe3\\x10\\x99ZK\\xab\\x0cd\\xb3B]\\x88\\xefa\\xfbZ\\xa8x\\x8ahc'\n",
      "32\n"
     ]
    }
   ],
   "source": [
    "# Hay que convertir el binario compartido a una llave aes apropiada\n",
    "derived_key = HKDF(algorithm = hashes.SHA256(), \n",
    "                length = 32, \n",
    "                salt = None,\n",
    "                info = b'handshake data', # tiene que ser lo mismo de los dos lados\n",
    "                backend = default_backend()).derive(shared_key_emisor)\n",
    "                \n",
    "print(derived_key)\n",
    "print(len(derived_key)) # apropiada para aes 128\n",
    "    "
   ]
  },
  {
   "cell_type": "markdown",
   "metadata": {},
   "source": [
    "## Serializar llaves"
   ]
  },
  {
   "cell_type": "markdown",
   "metadata": {},
   "source": [
    "- Necesario para intercambiar la llave pública y poder generar el secreto compartido\n",
    "- Se muestra como serializar en formato PEM"
   ]
  },
  {
   "cell_type": "code",
   "execution_count": 3,
   "metadata": {},
   "outputs": [
    {
     "name": "stdout",
     "output_type": "stream",
     "text": [
      "b'-----BEGIN PUBLIC KEY-----\\nMIICJDCCARcGCSqGSIb3DQEDATCCAQgCggEBANPwFco3LFzR2ZTPeaWjBzEI0JeY\\n2MJUbx4q7CKIJV3lQUcOZHw5TOcPctruFYtqIdqcdQ912y9iptKStkc2Ir4zOLUz\\nOxC+UKcoIYle9B24BbPLkfAYvmpmNSxWpIzVtxw6RSR6dtJaJIqbsqyKNslHYiWk\\nmljrSfXFMAHCbYN9F6CJdKuPn9ZO/6ErpS1ct8iW1eEwHKLKkeID54sRhezsUHZZ\\niG2PwXvGANtG0dZBA04rn87Drf3VZbTczDteWuVR8aW8H8qFOPvHfvdKNKsFsOZF\\nGpYa4MHkxAGhjtnXSIOkwe5Dp1WRpv8HXDRUNIqX9xfPcxV8YOV+CgGEj0MCAQID\\nggEFAAKCAQB0nNvFYar3U5EFnyXIsPZvt8cEmcb4aVOzZXU1JdDlqL46OFF6oZZO\\nBVeCqn4ylsPLQxKZIJglS9QC38w+UMFKWRaFXKBHOwQrCCtFiFSi0AhAkYazba1R\\nFwdjEBvugITLlu+0CxqyYnqgXMa0DIAQSvu7uuZcV0mfAru0qYtxoDe+IKQdlx0B\\nhP49Ixu7ONb1g3GCE9NeNYdcRhqXfn8FgdNgPpt3JpXF8xly4GNAulVTK3xFIFH2\\n0FLqmqswFjLjfIluDW5QltMM3+kQGHQj7gdc+qUKxkqLEe5Kd8RvetcWoo+IHkQ3\\n+b8YVjoOo9Msy8tegiE5sGhD6Uz560bU\\n-----END PUBLIC KEY-----\\n'\n",
      "<cryptography.hazmat.backends.openssl.dh._DHPublicKey object at 0x0000027FD462F8E0>\n"
     ]
    }
   ],
   "source": [
    "from cryptography.hazmat.primitives import serialization\n",
    "\n",
    "llave_serialiada = public_key_emisor.public_bytes(\n",
    "    encoding=serialization.Encoding.PEM,\n",
    "    format=serialization.PublicFormat.SubjectPublicKeyInfo)\n",
    "print(llave_serialiada)\n",
    "\n",
    "# regresar a objeto llave\n",
    "public_key_recuperada = serialization.load_pem_public_key(\n",
    "    llave_serialiada,\n",
    "    backend=default_backend())\n",
    "print(public_key_recuperada)"
   ]
  },
  {
   "cell_type": "markdown",
   "metadata": {},
   "source": [
    "## ECDH"
   ]
  },
  {
   "cell_type": "code",
   "execution_count": 22,
   "metadata": {},
   "outputs": [
    {
     "name": "stdout",
     "output_type": "stream",
     "text": [
      "True\n",
      "b\"5\\x16\\xf4~}\\x0b'3\\xa1]\\x14\\xc3\\x8aF\\xd0\\xf7\\x90s\\x97R\\xc1\\x9cXU\\t\\xb9!xH3\\x96\\x01\\x88\\x15\\xa7\\x12`D\\xa6\\xbe\\x9b2O\\x1ev\\n\\x8cR\"\n"
     ]
    }
   ],
   "source": [
    "from cryptography.hazmat.backends import default_backend\n",
    "from  cryptography.hazmat.primitives import hashes\n",
    "from cryptography.hazmat.primitives.asymmetric import ec\n",
    "from cryptography.hazmat.primitives.kdf.hkdf import HKDF\n",
    "\n",
    "private_key_emisor = ec.generate_private_key(ec.SECP384R1(), default_backend())\n",
    "public_key_emisor = private_key_emisor.public_key()\n",
    "\n",
    "private_key_receptor = ec.generate_private_key(ec.SECP384R1(), default_backend())\n",
    "public_key_receptor = private_key_receptor.public_key()\n",
    "\n",
    "shared_key_emisor = private_key_emisor.exchange(ec.ECDH(), public_key_receptor) # esto es binario\n",
    "shared_key_receptor = private_key_receptor.exchange(ec.ECDH(), public_key_emisor)\n",
    "\n",
    "print(shared_key_emisor == shared_key_receptor)\n",
    "print(shared_key_emisor)"
   ]
  }
 ],
 "metadata": {
  "interpreter": {
   "hash": "2be5faf79681da6f2a61fdfdd5405d65d042280f7fba6178067603e3a2925119"
  },
  "kernelspec": {
   "display_name": "Python 3.10.1 64-bit",
   "language": "python",
   "name": "python3"
  },
  "language_info": {
   "codemirror_mode": {
    "name": "ipython",
    "version": 3
   },
   "file_extension": ".py",
   "mimetype": "text/x-python",
   "name": "python",
   "nbconvert_exporter": "python",
   "pygments_lexer": "ipython3",
   "version": "3.10.1"
  },
  "orig_nbformat": 4
 },
 "nbformat": 4,
 "nbformat_minor": 2
}
