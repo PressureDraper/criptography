{
 "cells": [
  {
   "cell_type": "markdown",
   "metadata": {},
   "source": [
    "# AES-GCM"
   ]
  },
  {
   "cell_type": "markdown",
   "metadata": {},
   "source": [
    "## Cifrar"
   ]
  },
  {
   "cell_type": "code",
   "execution_count": 1,
   "metadata": {},
   "outputs": [
    {
     "name": "stdout",
     "output_type": "stream",
     "text": [
      "b\"anX\\xc6\\xac}\\xb3#'&g\\x9e\\xddEv\\xea\\x15\\x0c\\xd3\\x0b\\xc4\\xae\\x9f/`\\x99'>\\xad\\xf2\\xfe\\xf0\"\n",
      "b'\\xf3T\\x15LL\\xef7:$^\\xd7\\xb6\\x85\\xddw['\n",
      "16\n"
     ]
    }
   ],
   "source": [
    "from cryptography.hazmat.backends import default_backend\n",
    "from cryptography.hazmat.primitives.kdf.scrypt import Scrypt\n",
    "import os\n",
    "from cryptography. hazmat.primitives.ciphers import Cipher, algorithms, modes\n",
    "\n",
    "# generar llave aes a partir de un password\n",
    "salt = os.urandom(16)\n",
    "kdf = Scrypt(salt=salt, length = 32, n =2**14, r =8, p=1, backend=default_backend())\n",
    "password = 'Hola'.encode('utf-8')\n",
    "key = kdf.derive(password) # llave aes\n",
    "\n",
    "iv = os.urandom(12)\n",
    "\n",
    "encryptor = Cipher(algorithms.AES(key), modes.GCM(iv), backend = default_backend()).encryptor()\n",
    "\n",
    "associated_data = iv + salt\n",
    "encryptor.authenticate_additional_data(associated_data)\n",
    "cifrado = encryptor.update(b'ejemplo de contenido plano')\n",
    "encryptor.finalize() # necesario para generar tag\n",
    "tag = encryptor.tag # 16 bytes\n",
    "print(key)\n",
    "print(tag)\n",
    "print(len(tag))"
   ]
  },
  {
   "cell_type": "markdown",
   "metadata": {},
   "source": [
    "## Descifrar"
   ]
  },
  {
   "cell_type": "code",
   "execution_count": 2,
   "metadata": {},
   "outputs": [
    {
     "name": "stdout",
     "output_type": "stream",
     "text": [
      "b'ejemplo de contenido plano'\n",
      "Pasó la verificación de tag, todo OK\n"
     ]
    }
   ],
   "source": [
    "\n",
    "# el salt, iv, tag y password vienen de la  sesión pasada, por eso no hay error \n",
    "kdf = Scrypt(salt=salt , length=32, n=2**14, r=8, p=1, backend = default_backend())\n",
    "\n",
    "key = kdf.derive(password)\n",
    "\n",
    "decryptor = Cipher(algorithms.AES( key), modes.GCM(iv, tag) , backend = default_backend()).decryptor()\n",
    "\n",
    "associated_data = iv + salt\n",
    "decryptor.authenticate_additional_data(associated_data)\n",
    "texto_plano = decryptor.update(cifrado)\n",
    "print(texto_plano)\n",
    "# si hay alteraciones finalize lanza excepcion\n",
    "try:\n",
    "    decryptor.finalize()\n",
    "    print('Pasó la verificación de tag, todo OK')\n",
    "except:\n",
    "    print('No pasó la verificación de tag, integridad comprometida')"
   ]
  }
 ],
 "metadata": {
  "interpreter": {
   "hash": "df15be09342bceac0e876cf435755198498b2b4b7e484df2a6390c96aecb08a3"
  },
  "kernelspec": {
   "display_name": "Python 3.6.5 64-bit",
   "language": "python",
   "name": "python3"
  },
  "language_info": {
   "codemirror_mode": {
    "name": "ipython",
    "version": 3
   },
   "file_extension": ".py",
   "mimetype": "text/x-python",
   "name": "python",
   "nbconvert_exporter": "python",
   "pygments_lexer": "ipython3",
   "version": "3.6.5"
  },
  "orig_nbformat": 4
 },
 "nbformat": 4,
 "nbformat_minor": 2
}
