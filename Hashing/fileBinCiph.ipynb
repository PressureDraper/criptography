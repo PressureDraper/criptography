{
 "cells": [
  {
   "cell_type": "markdown",
   "metadata": {},
   "source": [
    "# Cifrar <-> Decifrar Archivos de Texto-Binario"
   ]
  },
  {
   "cell_type": "markdown",
   "metadata": {},
   "source": [
    "### Importamos libreria"
   ]
  },
  {
   "cell_type": "code",
   "execution_count": 1,
   "metadata": {},
   "outputs": [],
   "source": [
    "import hashlib"
   ]
  },
  {
   "cell_type": "markdown",
   "metadata": {},
   "source": [
    "### Creamos y leemos el archivo binario"
   ]
  },
  {
   "cell_type": "code",
   "execution_count": 2,
   "metadata": {},
   "outputs": [
    {
     "name": "stdout",
     "output_type": "stream",
     "text": [
      "b'algun texto'\n"
     ]
    }
   ],
   "source": [
    "file = open('testing.txt', 'bw')\n",
    "file.write(b'algun texto')\n",
    "file.close()\n",
    "file = open('testing.txt', 'br')\n",
    "content_global = file.read()\n",
    "file.close()\n",
    "print(content_global)"
   ]
  },
  {
   "cell_type": "markdown",
   "metadata": {},
   "source": [
    "### Definimos el alfabeto a 26 carácteres y transformamos a unicode"
   ]
  },
  {
   "cell_type": "code",
   "execution_count": 3,
   "metadata": {},
   "outputs": [
    {
     "name": "stdout",
     "output_type": "stream",
     "text": [
      "['a', 'b', 'c', 'd', 'e', 'f', 'g', 'h', 'i', 'j', 'k', 'l', 'm', 'n', 'o', 'p', 'q', 'r', 's', 't', 'u', 'v', 'w', 'x', 'y', 'z']\n",
      "[97, 98, 99, 100, 101, 102, 103, 104, 105, 106, 107, 108, 109, 110, 111, 112, 113, 114, 115, 116, 117, 118, 119, 120, 121, 122]\n"
     ]
    }
   ],
   "source": [
    "alf = \"abcdefghijklmnopqrstuvwxyz\"\n",
    "af = list(alf)\n",
    "alfabeto = []\n",
    "print(af)\n",
    "\n",
    "for char in af:\n",
    "    alfabeto.append(ord(char))\n",
    "\n",
    "print(alfabeto)"
   ]
  },
  {
   "cell_type": "markdown",
   "metadata": {},
   "source": [
    "### Función para cifrar el archivo"
   ]
  },
  {
   "cell_type": "code",
   "execution_count": 4,
   "metadata": {},
   "outputs": [],
   "source": [
    "def cifrar(content, shift, alfabeto):\n",
    "    data = list(content) #se crea una lista en unicode con el contenido en binario\n",
    "    res = []\n",
    "\n",
    "    print(f'Unicode inicial {data}')\n",
    "\n",
    "    for char in data: # ciclo para aumentar el shift al unicode y cambiar el valor inicial\n",
    "        if char in alfabeto:\n",
    "            new_char = alfabeto[((alfabeto.index(char) + shift) % 26)]\n",
    "            res.append(new_char)\n",
    "        else:\n",
    "            res.append(char)\n",
    "    print(f'Unicode shifteado {res}')\n",
    "\n",
    "    return bytes(res)"
   ]
  },
  {
   "cell_type": "markdown",
   "metadata": {},
   "source": [
    "### Funcion para decifrar archivo"
   ]
  },
  {
   "cell_type": "code",
   "execution_count": 5,
   "metadata": {},
   "outputs": [],
   "source": [
    "def decifrar(content, shift, alfabeto):\n",
    "    data = list(content) #se crea una lista en unicode con el contenido en binario\n",
    "    res = []\n",
    "\n",
    "    print(f'Unicode inicial cifrado {data}')\n",
    "\n",
    "    for char in data: # ciclo para aumentar el shift al unicode y cambiar el valor inicial\n",
    "        if char in alfabeto:\n",
    "            new_char = alfabeto[((alfabeto.index(char) - shift) % 26)]\n",
    "            res.append(new_char)\n",
    "        else:\n",
    "            res.append(char)\n",
    "    print(f'Unicode shifteado decifrado {res}')\n",
    "\n",
    "    return bytes(res)"
   ]
  },
  {
   "cell_type": "markdown",
   "metadata": {},
   "source": [
    "\n",
    "### Comprobar integridad de hash"
   ]
  },
  {
   "cell_type": "code",
   "execution_count": 6,
   "metadata": {},
   "outputs": [],
   "source": [
    "def integrity(decoded_hash, og_hash):\n",
    "    if decoded_hash == og_hash:\n",
    "        return True\n",
    "    else:\n",
    "        return False\n",
    "    "
   ]
  },
  {
   "cell_type": "markdown",
   "metadata": {},
   "source": [
    "### Funciones para el archivo"
   ]
  },
  {
   "cell_type": "code",
   "execution_count": 7,
   "metadata": {},
   "outputs": [],
   "source": [
    "def cifrarArchivo(path_in, path_out, shift):\n",
    "\n",
    "    file = open(path_in, 'br')\n",
    "    content = file.read()\n",
    "    file.close()\n",
    "\n",
    "    #hasheamos el contenido del txt\n",
    "    hasher = hashlib.sha256()\n",
    "    hasher.update(content) \n",
    "    binhash = hasher.digest() #bytes hash\n",
    "\n",
    "    #unimos el hash con el contenido para cifrarlo todo\n",
    "    cont = binhash + content\n",
    "    print(f'Contenido inicial {cont}')\n",
    "\n",
    "    #ciframos el contenido\n",
    "    cifrado = cifrar(cont, shift, alfabeto) \n",
    "    file2 = open(path_out, 'bw')\n",
    "    file2.write(cifrado) #Después escribimos el mismo contenido pero cifrado con el hash\n",
    "    file.close()\n",
    "\n",
    "def decifrarArchivo(path_in, path_out, shift):\n",
    "\n",
    "    file = open(path_in, 'br')\n",
    "    content = file.read()\n",
    "    file.close()\n",
    "\n",
    "    #Decifrar contenido y quedarnos con el hash\n",
    "    cifrado = decifrar(content, shift, alfabeto)\n",
    "    hash_unique = cifrado[:32]\n",
    "    print(hash_unique)\n",
    "\n",
    "    #quedarnos con el contenido binario\n",
    "    content_unique = cifrado[32:]\n",
    "    print(content_unique)\n",
    "\n",
    "    #hasheamos el contenido del txt\n",
    "    hasher = hashlib.sha256()\n",
    "    hasher.update(content_unique)\n",
    "    binhash = hasher.digest() #bytes hash\n",
    "\n",
    "    #Se verifica si el contenido sufrió algún cambio\n",
    "    if integrity(hash_unique, binhash) == True:\n",
    "       file2 = open(path_out, 'bw')\n",
    "       file2.write(content_unique)\n",
    "       file.close()\n",
    "       print(\"La integridad fue verificada exitosamente\")\n",
    "    else:\n",
    "        raise RuntimeError(f'Los datos del archivo {path_in} han sido corrompidos')\n",
    "\n",
    "\n",
    "    "
   ]
  },
  {
   "cell_type": "code",
   "execution_count": 13,
   "metadata": {},
   "outputs": [
    {
     "name": "stdout",
     "output_type": "stream",
     "text": [
      "Unicode inicial cifrado [79, 239, 191, 189, 239, 191, 189, 239, 191, 189, 31, 239, 191, 189, 13, 10, 127, 124, 73, 239, 191, 189, 5, 239, 191, 189, 239, 191, 189, 222, 149, 33, 91, 239, 191, 189, 85, 24, 83, 239, 191, 189, 125, 108, 239, 191, 189, 239, 191, 189, 239, 191, 189, 57, 96, 239, 191, 189, 239, 191, 189, 117, 102, 97, 111, 104, 32, 110, 121, 114, 110, 105, 120, 115]\n",
      "Unicode shifteado decifrado [79, 239, 191, 189, 239, 191, 189, 239, 191, 189, 31, 239, 191, 189, 13, 10, 127, 124, 73, 239, 191, 189, 5, 239, 191, 189, 239, 191, 189, 222, 149, 33, 91, 239, 191, 189, 85, 24, 83, 239, 191, 189, 125, 114, 239, 191, 189, 239, 191, 189, 239, 191, 189, 57, 96, 239, 191, 189, 239, 191, 189, 97, 108, 103, 117, 110, 32, 116, 101, 120, 116, 111, 100, 121]\n",
      "b'O\\xef\\xbf\\xbd\\xef\\xbf\\xbd\\xef\\xbf\\xbd\\x1f\\xef\\xbf\\xbd\\r\\n\\x7f|I\\xef\\xbf\\xbd\\x05\\xef\\xbf\\xbd\\xef\\xbf\\xbd\\xde\\x95!'\n",
      "b'[\\xef\\xbf\\xbdU\\x18S\\xef\\xbf\\xbd}r\\xef\\xbf\\xbd\\xef\\xbf\\xbd\\xef\\xbf\\xbd9`\\xef\\xbf\\xbd\\xef\\xbf\\xbdalgun textody'\n"
     ]
    },
    {
     "ename": "RuntimeError",
     "evalue": "Los datos del archivo ./testingcode.txt han sido corrompidos",
     "output_type": "error",
     "traceback": [
      "\u001b[1;31m---------------------------------------------------------------------------\u001b[0m",
      "\u001b[1;31mRuntimeError\u001b[0m                              Traceback (most recent call last)",
      "\u001b[1;32mc:\\Users\\warma\\Desktop\\8vo_Semestre\\Criptografia\\fileBinCiph.ipynb Cell 16'\u001b[0m in \u001b[0;36m<module>\u001b[1;34m\u001b[0m\n\u001b[0;32m      <a href='vscode-notebook-cell:/c%3A/Users/warma/Desktop/8vo_Semestre/Criptografia/fileBinCiph.ipynb#ch0000015?line=5'>6</a>\u001b[0m path_in \u001b[39m=\u001b[39m \u001b[39m\"\u001b[39m\u001b[39m./testingcode.txt\u001b[39m\u001b[39m\"\u001b[39m\n\u001b[0;32m      <a href='vscode-notebook-cell:/c%3A/Users/warma/Desktop/8vo_Semestre/Criptografia/fileBinCiph.ipynb#ch0000015?line=6'>7</a>\u001b[0m path_out \u001b[39m=\u001b[39m \u001b[39m\"\u001b[39m\u001b[39m./testingdecode.txt\u001b[39m\u001b[39m\"\u001b[39m\n\u001b[1;32m----> <a href='vscode-notebook-cell:/c%3A/Users/warma/Desktop/8vo_Semestre/Criptografia/fileBinCiph.ipynb#ch0000015?line=8'>9</a>\u001b[0m decifrarArchivo(path_in, path_out, \u001b[39m20\u001b[39;49m)\n",
      "\u001b[1;32mc:\\Users\\warma\\Desktop\\8vo_Semestre\\Criptografia\\fileBinCiph.ipynb Cell 15'\u001b[0m in \u001b[0;36mdecifrarArchivo\u001b[1;34m(path_in, path_out, shift)\u001b[0m\n\u001b[0;32m     <a href='vscode-notebook-cell:/c%3A/Users/warma/Desktop/8vo_Semestre/Criptografia/fileBinCiph.ipynb#ch0000014?line=46'>47</a>\u001b[0m    \u001b[39mprint\u001b[39m(\u001b[39m\"\u001b[39m\u001b[39mLa integridad fue verificada exitosamente\u001b[39m\u001b[39m\"\u001b[39m)\n\u001b[0;32m     <a href='vscode-notebook-cell:/c%3A/Users/warma/Desktop/8vo_Semestre/Criptografia/fileBinCiph.ipynb#ch0000014?line=47'>48</a>\u001b[0m \u001b[39melse\u001b[39;00m:\n\u001b[1;32m---> <a href='vscode-notebook-cell:/c%3A/Users/warma/Desktop/8vo_Semestre/Criptografia/fileBinCiph.ipynb#ch0000014?line=48'>49</a>\u001b[0m     \u001b[39mraise\u001b[39;00m \u001b[39mRuntimeError\u001b[39;00m(\u001b[39mf\u001b[39m\u001b[39m'\u001b[39m\u001b[39mLos datos del archivo \u001b[39m\u001b[39m{\u001b[39;00mpath_in\u001b[39m}\u001b[39;00m\u001b[39m han sido corrompidos\u001b[39m\u001b[39m'\u001b[39m)\n",
      "\u001b[1;31mRuntimeError\u001b[0m: Los datos del archivo ./testingcode.txt han sido corrompidos"
     ]
    }
   ],
   "source": [
    "# path_in = \"./testing.txt\"\n",
    "# path_out = \"./testingcode.txt\"\n",
    "\n",
    "# cifrarArchivo(path_in, path_out, 20)\n",
    "\n",
    "path_in = \"./testingcode.txt\"\n",
    "path_out = \"./testingdecode.txt\"\n",
    "\n",
    "decifrarArchivo(path_in, path_out, 20)"
   ]
  }
 ],
 "metadata": {
  "interpreter": {
   "hash": "2be5faf79681da6f2a61fdfdd5405d65d042280f7fba6178067603e3a2925119"
  },
  "kernelspec": {
   "display_name": "Python 3.10.1 64-bit",
   "language": "python",
   "name": "python3"
  },
  "language_info": {
   "codemirror_mode": {
    "name": "ipython",
    "version": 3
   },
   "file_extension": ".py",
   "mimetype": "text/x-python",
   "name": "python",
   "nbconvert_exporter": "python",
   "pygments_lexer": "ipython3",
   "version": "3.10.1"
  },
  "orig_nbformat": 4
 },
 "nbformat": 4,
 "nbformat_minor": 2
}
