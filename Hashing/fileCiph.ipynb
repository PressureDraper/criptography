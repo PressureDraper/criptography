{
 "cells": [
  {
   "cell_type": "markdown",
   "metadata": {},
   "source": [
    "# Cifrar <-> Decifrar Archivos de Texto"
   ]
  },
  {
   "cell_type": "markdown",
   "metadata": {},
   "source": [
    "### Creamos y leemos el archivo de texto"
   ]
  },
  {
   "cell_type": "code",
   "execution_count": 89,
   "metadata": {},
   "outputs": [],
   "source": [
    "file = open('testing.txt', 'w')\n",
    "file.write('algun texto')\n",
    "file.close()"
   ]
  },
  {
   "cell_type": "markdown",
   "metadata": {},
   "source": [
    "### Definimos el alfabeto a 26 carácteres y transformamos a unicode"
   ]
  },
  {
   "cell_type": "code",
   "execution_count": null,
   "metadata": {},
   "outputs": [],
   "source": [
    "alf = \"abcdefghijklmnopqrstuvwxyz\"\n",
    "af = list(alf)\n",
    "alfabeto = []\n",
    "print(af)\n",
    "\n",
    "for char in af:\n",
    "    alfabeto.append(ord(char))\n",
    "\n",
    "print(alfabeto)"
   ]
  },
  {
   "cell_type": "markdown",
   "metadata": {},
   "source": [
    "### Función para cifrar el archivo"
   ]
  },
  {
   "cell_type": "code",
   "execution_count": 91,
   "metadata": {},
   "outputs": [],
   "source": [
    "def cifrar(content, shift, alfabeto):\n",
    "    data = list(content) #se crea una lista char con el contenido\n",
    "    unicode = []\n",
    "    res = []\n",
    "    new_text = []\n",
    "    text = ''\n",
    "\n",
    "    for char in data: #cambiamos cada char a unicode y se agrega al array\n",
    "        unicode.append(ord(char))\n",
    "    print(unicode)\n",
    "\n",
    "    for char in unicode: # ciclo para aumentar el shift al unicode y cambiar el valor inicial\n",
    "        if char in alfabeto:\n",
    "            new_char = alfabeto[((alfabeto.index(char) + shift) % 26)]\n",
    "            res.append(new_char)\n",
    "        else:\n",
    "            res.append(char)\n",
    "    print(res)\n",
    "\n",
    "    for newchar in res: # ciclo para añadir al array los nuevos carácteres\n",
    "        new_text.append(chr(newchar))\n",
    "    \n",
    "    print(new_text)\n",
    "\n",
    "    #convirtiendo array a str\n",
    "    text = text.join(new_text)\n",
    "\n",
    "    return text"
   ]
  },
  {
   "cell_type": "markdown",
   "metadata": {},
   "source": [
    "### Funcion para decifrar archivo"
   ]
  },
  {
   "cell_type": "code",
   "execution_count": 92,
   "metadata": {},
   "outputs": [],
   "source": [
    "def decifrar(content, shift, alfabeto):\n",
    "    data = list(content) #se crea una lista char con el contenido\n",
    "    unicode = []\n",
    "    res = []\n",
    "    new_text = []\n",
    "    text = ''\n",
    "\n",
    "    for char in data: #cambiamos cada char a unicode y se agrega al array\n",
    "        unicode.append(ord(char))\n",
    "    print(unicode)\n",
    "\n",
    "    for char in unicode: # ciclo para disminuir el shift al unicode y cambiar el valor al inicial\n",
    "        if char in alfabeto:\n",
    "            new_char = alfabeto[((alfabeto.index(char) - shift) % 26)]\n",
    "            res.append(new_char)\n",
    "        else:\n",
    "            res.append(char)\n",
    "    print(res)\n",
    "\n",
    "    for newchar in res: # ciclo para añadir al array los nuevos carácteres\n",
    "        new_text.append(chr(newchar))\n",
    "    \n",
    "    print(new_text)\n",
    "\n",
    "    #convirtiendo array a str\n",
    "    text = text.join(new_text)\n",
    "\n",
    "    return text"
   ]
  },
  {
   "cell_type": "markdown",
   "metadata": {},
   "source": [
    "### Funciones para el archivo"
   ]
  },
  {
   "cell_type": "code",
   "execution_count": 93,
   "metadata": {},
   "outputs": [],
   "source": [
    "def cifrarArchivo(path_in, path_out, shift):\n",
    "\n",
    "    file = open(path_in, 'r')\n",
    "    content = file.read()\n",
    "    file.close()\n",
    "    cifrado = cifrar(content, shift, alfabeto)\n",
    "    file2 = open(path_out, 'w')\n",
    "    file2.write(cifrado)\n",
    "    file.close()\n",
    "\n",
    "def decifrarArchivo(path_in, path_out, shift):\n",
    "\n",
    "    file = open(path_in, 'r')\n",
    "    content = file.read()\n",
    "    file.close()\n",
    "    cifrado = decifrar(content, shift, alfabeto)\n",
    "    file2 = open(path_out, 'w')\n",
    "    file2.write(cifrado)\n",
    "    file.close()"
   ]
  },
  {
   "cell_type": "code",
   "execution_count": null,
   "metadata": {},
   "outputs": [],
   "source": [
    "path_in = \"./testing.txt\"\n",
    "path_out = \"./testingcode.txt\"\n",
    "\n",
    "cifrarArchivo(path_in, path_out, 20)\n",
    "\n",
    "\"\"\"path_in = \"./testingcode.txt\"\n",
    "path_out = \"./testingdecode.txt\"\n",
    "\n",
    "decifrarArchivo(path_in, path_out, 20)\"\"\""
   ]
  }
 ],
 "metadata": {
  "interpreter": {
   "hash": "2be5faf79681da6f2a61fdfdd5405d65d042280f7fba6178067603e3a2925119"
  },
  "kernelspec": {
   "display_name": "Python 3.10.1 64-bit",
   "language": "python",
   "name": "python3"
  },
  "language_info": {
   "codemirror_mode": {
    "name": "ipython",
    "version": 3
   },
   "file_extension": ".py",
   "mimetype": "text/x-python",
   "name": "python",
   "nbconvert_exporter": "python",
   "pygments_lexer": "ipython3",
   "version": "3.10.1"
  },
  "orig_nbformat": 4
 },
 "nbformat": 4,
 "nbformat_minor": 2
}
