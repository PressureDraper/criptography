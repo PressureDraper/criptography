{
 "cells": [
  {
   "cell_type": "markdown",
   "metadata": {},
   "source": [
    "# Maleabilidad CTR"
   ]
  },
  {
   "cell_type": "markdown",
   "metadata": {},
   "source": [
    "## Librerias"
   ]
  },
  {
   "cell_type": "code",
   "execution_count": 34,
   "metadata": {},
   "outputs": [],
   "source": [
    "from cryptography.hazmat.primitives.ciphers import Cipher, algorithms, modes\n",
    "from cryptography.hazmat.backends import default_backend\n",
    "import os\n",
    "import sys"
   ]
  },
  {
   "cell_type": "markdown",
   "metadata": {},
   "source": [
    "## Función calcular XOR"
   ]
  },
  {
   "cell_type": "code",
   "execution_count": 35,
   "metadata": {},
   "outputs": [],
   "source": [
    "def calcXOR(bin1, bin2):\n",
    "\n",
    "    bytes1 = list(bin1)\n",
    "    bytes2 = list(bin2)\n",
    "\n",
    "    if len(bytes2) < len(bytes1):\n",
    "        menor = len(bytes2)\n",
    "        mayor = bytes1\n",
    "    else:\n",
    "        menor = len(bytes1)\n",
    "        mayor = bytes2\n",
    "    \n",
    "    resb = []\n",
    "\n",
    "    for i in range(menor):\n",
    "        resb.append(bytes1[i] ^ bytes2[i])\n",
    "    \n",
    "    return bytes(resb) + bytes(mayor[menor:])"
   ]
  },
  {
   "cell_type": "markdown",
   "metadata": {},
   "source": [
    "## Cifrador"
   ]
  },
  {
   "cell_type": "code",
   "execution_count": 36,
   "metadata": {},
   "outputs": [],
   "source": [
    "def encode(path_in,path_out, key, iv):\n",
    "    aesCipher = Cipher(algorithms.AES(key), modes.CTR(iv), backend = default_backend)\n",
    "    aesEncryptor = aesCipher.encryptor()\n",
    "\n",
    "    file = open(path_in, \"rb\")\n",
    "    content = file.readlines()\n",
    "    file.close()\n",
    "\n",
    "    file_out = open(path_out, \"wb\")\n",
    "\n",
    "    for buffer in content:\n",
    "        cipher = aesEncryptor.update(buffer)\n",
    "        print(cipher)\n",
    "        file_out.write(cipher)\n",
    "        \n",
    "    aesEncryptor.finalize()\n",
    "    file_out.close()\n",
    "\n",
    "def decode(path_in,path_out, key, iv):\n",
    "    aesCipher = Cipher(algorithms.AES(key), modes.CTR(iv), backend = default_backend)\n",
    "    aesDecryptor = aesCipher.decryptor()\n",
    "\n",
    "    file = open(path_in, \"rb\")\n",
    "    content = file.readlines()\n",
    "    file.close()\n",
    "\n",
    "    file_out = open(path_out, \"wb\")\n",
    "\n",
    "    for buffer in content:\n",
    "        bs = aesDecryptor.update(buffer)\n",
    "        file_out.write(bs)\n",
    "\n",
    "    aesDecryptor.finalize()\n",
    "    file_out.close()"
   ]
  },
  {
   "cell_type": "markdown",
   "metadata": {},
   "source": [
    "## Main"
   ]
  },
  {
   "cell_type": "code",
   "execution_count": null,
   "metadata": {},
   "outputs": [],
   "source": [
    "if __name__ == \"__main__\":\n",
    "    \n",
    "    key = os.urandom(16)\n",
    "    iv = os.urandom(16)\n",
    "    \n",
    "    path_in = sys.argv[1]\n",
    "    path_out = sys.argv[2]\n",
    "    path_out2 = sys.argv[3]\n",
    "\n",
    "    encode(path_in, path_out, key, iv)\n",
    "\n",
    "    decode(path_in, path_out2, key, iv)\n",
    "\n",
    "    # a = list(calcXOR(b'0000', b'1111'))"
   ]
  }
 ],
 "metadata": {
  "interpreter": {
   "hash": "2be5faf79681da6f2a61fdfdd5405d65d042280f7fba6178067603e3a2925119"
  },
  "kernelspec": {
   "display_name": "Python 3.10.1 64-bit",
   "language": "python",
   "name": "python3"
  },
  "language_info": {
   "codemirror_mode": {
    "name": "ipython",
    "version": 3
   },
   "file_extension": ".py",
   "mimetype": "text/x-python",
   "name": "python",
   "nbconvert_exporter": "python",
   "pygments_lexer": "ipython3",
   "version": "3.10.1"
  },
  "orig_nbformat": 4
 },
 "nbformat": 4,
 "nbformat_minor": 2
}
