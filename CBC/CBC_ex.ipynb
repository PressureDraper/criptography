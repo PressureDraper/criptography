{
 "cells": [
  {
   "cell_type": "markdown",
   "metadata": {},
   "source": [
    "# CBC b64 padding"
   ]
  },
  {
   "cell_type": "markdown",
   "metadata": {},
   "source": [
    "### Import libraries"
   ]
  },
  {
   "cell_type": "code",
   "execution_count": 1,
   "metadata": {},
   "outputs": [],
   "source": [
    "from cryptography.hazmat.primitives.ciphers import Cipher, algorithms, modes\n",
    "from cryptography.hazmat.backends import default_backend\n",
    "from cryptography.hazmat.primitives import padding\n",
    "import base64"
   ]
  },
  {
   "cell_type": "code",
   "execution_count": 72,
   "metadata": {},
   "outputs": [
    {
     "name": "stdout",
     "output_type": "stream",
     "text": [
      "b'cadena random a '\n",
      "b'cadena random a cifrar\\n\\n\\n\\n\\n\\n\\n\\n\\n\\n'\n",
      "b'N\\xbc\\xd82\\xaf8\\xb6\\xc5\\xe8\\xe7\\x9e\\xf2z\\x07\\xb2a\\xe0\\x01\\xc4s\\xc1%\\xeeu\\xb0v\\xb6I\\x08\\xed~\\xdd'\n",
      "b'cadena random a cifrar\\n\\n\\n\\n\\n\\n\\n\\n\\n\\n'\n",
      "b'cadena random a cifrar'\n"
     ]
    }
   ],
   "source": [
    "key = base64.b64encode(b'5' * 16)\n",
    "\n",
    "iv = base64.b64encode(os.urandom(10))\n",
    "\n",
    "aesCipher = Cipher(algorithms.AES(key), modes.CBC(iv), backend = default_backend)\n",
    "aesEncryptor = aesCipher.encryptor()\n",
    "\n",
    "#Cifrar\n",
    "data = b'cadena random a cifrar'\n",
    "padder = padding.PKCS7(128).padder()\n",
    "rest = padder.update(data) #padder.update solo jala 16 bytes y lo demas se queda en buffer\n",
    "print(rest)\n",
    "rest += padder.finalize() #finalize agrega el padding necesario para complementar la cadena y el tamaño minimo de bloque\n",
    "print(rest)\n",
    "cipher = aesEncryptor.update(rest)\n",
    "aesEncryptor.finalize()\n",
    "print(cipher)\n",
    "\n",
    "#Decifrar\n",
    "aesDecryptor = aesCipher.decryptor()\n",
    "unpadder = padding.PKCS7(128).unpadder()\n",
    "plano = aesDecryptor.update(cipher) #Se decifra el contenido con el padding\n",
    "print(plano)\n",
    "aesDecryptor.finalize()\n",
    "data = unpadder.update(plano)\n",
    "print(data + unpadder.finalize())"
   ]
  }
 ],
 "metadata": {
  "interpreter": {
   "hash": "2be5faf79681da6f2a61fdfdd5405d65d042280f7fba6178067603e3a2925119"
  },
  "kernelspec": {
   "display_name": "Python 3.10.1 64-bit",
   "language": "python",
   "name": "python3"
  },
  "language_info": {
   "codemirror_mode": {
    "name": "ipython",
    "version": 3
   },
   "file_extension": ".py",
   "mimetype": "text/x-python",
   "name": "python",
   "nbconvert_exporter": "python",
   "pygments_lexer": "ipython3",
   "version": "3.10.1"
  },
  "orig_nbformat": 4
 },
 "nbformat": 4,
 "nbformat_minor": 2
}
